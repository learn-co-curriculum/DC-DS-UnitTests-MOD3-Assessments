{
 "cells": [
  {
   "cell_type": "markdown",
   "metadata": {},
   "source": [
    "# Module 3 Assessment"
   ]
  },
  {
   "cell_type": "markdown",
   "metadata": {},
   "source": [
    "### Congratulations on making it to your third assessment! Just a few reminders before you continue:\n",
    "- This should only take two hours, so be sure to manage your time effectively.\n",
    "- Use any libraries you want to solve the problems in the assessment.\n",
    "- Read the instructions carefully for _specified variable names_.\n",
    "- Check your progress by running **`make tests`** in the terminal, </br>\n",
    "  OR **if you have a PC**, manually run these lines in the terminal:\n",
    "  - `jupyter nbconvert --to script mod3_assessment.ipynb`\n",
    "  - `python -m pytest --disable-pytest-warnings -v`\n",
    "\n",
    "The sections of the assessment are:\n",
    "- Combinatorics, Probability and Discrete Distributions\n",
    "- Statistical Distributions\n",
    "- Statistical Tests\n",
    "- Bayesian Statistics"
   ]
  },
  {
   "cell_type": "code",
   "execution_count": 1,
   "metadata": {},
   "outputs": [],
   "source": [
    "# __SOLUTION__ \n",
    "import math\n",
    "import pickle\n",
    "import numpy as np\n",
    "import pandas as pd\n",
    "from scipy import stats\n",
    "import matplotlib.pyplot as plt\n",
    "%matplotlib inline\n",
    "from statsmodels.stats import weightstats as stests"
   ]
  },
  {
   "cell_type": "markdown",
   "metadata": {},
   "source": [
    "## Part 1: Combinatorics, Probability & Discrete Distributions\n",
    "\n",
    "### a. Set Theory\n",
    "\n",
    "Given the following event probabilities:\n",
    "\n",
    "$P(A) = 0.7$\n",
    "\n",
    "$P(B) = 0.5$\n",
    "\n",
    "$P(B|A) = 0.4$\n",
    "\n",
    "Calculate the following probabilities and assign to the variables `ans1` and `ans2` in the next cell:\n",
    "\n",
    "1. $P(A and B)$\n",
    "\n",
    "2. $P(A|B)$\n",
    "\n",
    "Hint: draw a diagram!\n"
   ]
  },
  {
   "cell_type": "code",
   "execution_count": 2,
   "metadata": {},
   "outputs": [],
   "source": [
    "# __SOLUTION__ \n",
    "\n",
    "# Question 1: P(A and B)\n",
    "# We can use the conditional probability formula\n",
    "# P(B|A)   = P(A & B)/P(A)\n",
    "# P(A & B) = P(B|A)*P(A) \n",
    "#          = 0.4*0.7\n",
    "ans1 = 0.28\n",
    "\n",
    "# Question 2: P(A|B) \n",
    "#    = P(A and B)/P(B) \n",
    "#    = 0.28/0.5 \n",
    "ans2 = 0.56"
   ]
  },
  {
   "cell_type": "markdown",
   "metadata": {},
   "source": [
    "### b. Card Combinatorics\n",
    "\n",
    "You have a standard deck of 52 cards.\n",
    "\n",
    "1. What is the probability of drawing a king or a queen? (`ans3`)\n",
    "2. How many possible 5-card combinations can be formed with this deck of 52 cards? (`ans4`)\n"
   ]
  },
  {
   "cell_type": "code",
   "execution_count": 3,
   "metadata": {},
   "outputs": [],
   "source": [
    "# __SOLUTION__ \n",
    "\n",
    "# Question 1: P(King or Queen)\n",
    "#    = Number of Kings + Queens / Total Number of Cards \n",
    "#    = 8/52 \n",
    "ans3 = 2/13\n",
    "\n",
    "# Question 2: Number of 5-card combinations \n",
    "#    = Number of ways to choose 5 from 52 \n",
    "#    = 52!/(5!*47!) \n",
    "ans4 = 2598960"
   ]
  },
  {
   "cell_type": "markdown",
   "metadata": {},
   "source": [
    "### c. Discrete Probability Distributions\n",
    "\n",
    "In a game with the same deck of 52 cards, you draw a card $n$ times with replacement. You win a point by drawing a face card (king, queen or jack). \n",
    "\n",
    "The function ```probability_of_scoring``` is provided below.  In this function $k$ is the number of points won in the game, $n$ is the number of draws, and $p$ is the probability of winning a point.  The function returns the corresponding probability."
   ]
  },
  {
   "cell_type": "code",
   "execution_count": 4,
   "metadata": {},
   "outputs": [],
   "source": [
    "def probability_of_scoring_k(n, p, k):\n",
    "    \"\"\"\n",
    "    n = number of draws\n",
    "    p = probability of winning a point\n",
    "    k = number of points scored\n",
    "    \n",
    "    Use np.factorial()\n",
    "    \n",
    "    \"\"\"\n",
    "    # defining a helper function for factorial\n",
    "    \n",
    "    def fact(n):\n",
    "        return np.math.factorial(n)\n",
    "    \n",
    "    \n",
    "    return (fact(n)/(fact(k)*fact(n-k)))*(p**(k))*((1-p)**(n-k))"
   ]
  },
  {
   "cell_type": "markdown",
   "metadata": {},
   "source": [
    "1. Using this function, what is the probability of winning 8 points out of 22 draws?\n"
   ]
  },
  {
   "cell_type": "code",
   "execution_count": 5,
   "metadata": {},
   "outputs": [
    {
     "data": {
      "text/plain": [
       "0.06532117736042573"
      ]
     },
     "execution_count": 5,
     "metadata": {},
     "output_type": "execute_result"
    }
   ],
   "source": [
    "# __SOLUTION__ \n",
    "ans5 = probability_of_scoring_k(22, 3/13, 8)\n",
    "ans5"
   ]
  },
  {
   "cell_type": "markdown",
   "metadata": {},
   "source": [
    "2a. Use the function `probability_of_scoring` to calculate the probability of drawing $k$ points out of 22 draws.<br> _Hint_: Your final result should be in the form of a list or array."
   ]
  },
  {
   "cell_type": "code",
   "execution_count": 6,
   "metadata": {},
   "outputs": [],
   "source": [
    "# __SOLUTION__ \n",
    "k_values = range(22)\n",
    "probs = [probability_of_scoring_k(22, 3/13, i) for i in k_values]"
   ]
  },
  {
   "cell_type": "markdown",
   "metadata": {},
   "source": [
    "2b. Plot the results of 2a. to create the probability mass function.\n"
   ]
  },
  {
   "cell_type": "code",
   "execution_count": 7,
   "metadata": {},
   "outputs": [
    {
     "data": {
      "image/png": "[encoded data removed]",
      "text/plain": [
       "<Figure size 432x288 with 1 Axes>"
      ]
     },
     "metadata": {
      "needs_background": "light"
     },
     "output_type": "display_data"
    }
   ],
   "source": [
    "# __SOLUTION__ \n",
    "plt.bar(k_values, probs)\n",
    "plt.title('PMF of Scores')\n",
    "plt.xlabel('k: number of points')\n",
    "plt.ylabel('Probability')\n",
    "plt.show()"
   ]
  },
  {
   "cell_type": "markdown",
   "metadata": {},
   "source": [
    "3. Based on the probability mass function, what type of distribution does the `probability_of_scoring` have?"
   ]
  },
  {
   "cell_type": "code",
   "execution_count": 8,
   "metadata": {},
   "outputs": [],
   "source": [
    "# __SOLUTION__\n",
    "\"\"\"\n",
    "The distribution above is a binomial distribution\n",
    "\"\"\"\n",
    "dist_type = \"Binomial Distribution\""
   ]
  },
  {
   "cell_type": "markdown",
   "metadata": {},
   "source": [
    "## Part 2: Statistical Distributions"
   ]
  },
  {
   "cell_type": "markdown",
   "metadata": {},
   "source": [
    "### a. Descriptive Statistics\n",
    "\n",
    "We have a sample of $10,000$ checks from a TexMex restaurant that has saved all their check receipts since openning.<br> We have the sample in the file ```check_data```."
   ]
  },
  {
   "cell_type": "markdown",
   "metadata": {},
   "source": [
    "1.  Compute the descriptive statistics of check totals and set it equal to the `desc_check_total` variable."
   ]
  },
  {
   "cell_type": "code",
   "execution_count": 9,
   "metadata": {},
   "outputs": [
    {
     "data": {
      "text/plain": [
       "count    2000.000000\n",
       "mean       22.020174\n",
       "std         2.775966\n",
       "min        13.650530\n",
       "25%        19.963402\n",
       "50%        22.019761\n",
       "75%        24.072823\n",
       "max        29.884671\n",
       "Name: check_total, dtype: float64"
      ]
     },
     "execution_count": 9,
     "metadata": {},
     "output_type": "execute_result"
    }
   ],
   "source": [
    "# __SOLUTION__\n",
    "data = pd.read_csv('data/check_data.csv')\n",
    "desc_check_total = data.check_total.describe()\n",
    "desc_check_total"
   ]
  },
  {
   "cell_type": "markdown",
   "metadata": {},
   "source": [
    "2. What do the measures of central tendency (mean and median) indicate about the distribution of the check totals?"
   ]
  },
  {
   "cell_type": "code",
   "execution_count": 10,
   "metadata": {},
   "outputs": [
    {
     "data": {
      "text/plain": [
       "'\\nThe mean and the median are approximately the same at 22.02 \\nwhich indicates that the distribution of checks is normal\\n'"
      ]
     },
     "execution_count": 10,
     "metadata": {},
     "output_type": "execute_result"
    }
   ],
   "source": [
    "# __SOLUTION__ \n",
    "\"\"\"\n",
    "The mean and the median are approximately the same at 22.02 \n",
    "which indicates that the distribution of checks is normal\n",
    "\"\"\""
   ]
  },
  {
   "cell_type": "markdown",
   "metadata": {},
   "source": [
    "### b. Continuous Distributions\n",
    "\n",
    "1. Create a histogram to visually depict the distribution of check totals."
   ]
  },
  {
   "cell_type": "code",
   "execution_count": 11,
   "metadata": {},
   "outputs": [
    {
     "data": {
      "image/png": "[encoded data removed]",
      "text/plain": [
       "<Figure size 432x288 with 1 Axes>"
      ]
     },
     "metadata": {
      "needs_background": "light"
     },
     "output_type": "display_data"
    }
   ],
   "source": [
    "# __SOLUTION__ \n",
    "plt.title('Distribution of Check Totals')\n",
    "plt.xlabel('Amount')\n",
    "plt.ylabel('Frequency')\n",
    "plt.hist(data['check_total'], bins=80)\n",
    "plt.show()"
   ]
  },
  {
   "cell_type": "markdown",
   "metadata": {},
   "source": [
    "For the following questions, you may use a [z-table](https://www.math.arizona.edu/~rsims/ma464/standardnormaltable.pdf)."
   ]
  },
  {
   "cell_type": "markdown",
   "metadata": {},
   "source": [
    "2. Calculate the 95% confidence interval around the mean check total as a **tuple** and set it to the variable `conf`. In a separate cell, interpret this interval correctly. "
   ]
  },
  {
   "cell_type": "code",
   "execution_count": 12,
   "metadata": {},
   "outputs": [
    {
     "name": "stdout",
     "output_type": "stream",
     "text": [
      "The 95% confidence interval is (16.58064003673802, 27.459707079674754) with a mean of 22.020173558206388\n"
     ]
    }
   ],
   "source": [
    "# __SOLUTION__ \n",
    "# 95% confidence interval has z-score of 1.96 (read where p = 0.975)\n",
    "mean = data.check_total.mean()\n",
    "zscore = 1.96\n",
    "std = np.std(data['check_total'])\n",
    "conf = (mean - zscore*std, mean + zscore*std)\n",
    "print(\"The 95% confidence interval is {} with a mean of {}\".format(conf, mean))"
   ]
  },
  {
   "cell_type": "code",
   "execution_count": 13,
   "metadata": {},
   "outputs": [
    {
     "data": {
      "text/plain": [
       "'\\nWe can be 95% sure that the true value of the population mean for check totals \\nis between $16.58 and $27.46\\n'"
      ]
     },
     "execution_count": 13,
     "metadata": {},
     "output_type": "execute_result"
    }
   ],
   "source": [
    "# __SOLUTION__\n",
    "\"\"\"\n",
    "We can be 95% sure that the true value of the population mean for check totals \n",
    "is between $16.58 and $27.46\n",
    "\"\"\""
   ]
  },
  {
   "cell_type": "markdown",
   "metadata": {},
   "source": [
    "3. Using a z-test and an $\\alpha = 0.05$, is my $23 dollar check significantly **greater** than the mean in our sample? \n",
    "- Set the `ztest_results` variable to the results of the ztest function.\n",
    "- Set your decision to the `significant` variable. \n",
    "- Then elaborate on why you made this decision."
   ]
  },
  {
   "cell_type": "code",
   "execution_count": 14,
   "metadata": {},
   "outputs": [],
   "source": [
    "# __SOLUTION__\n",
    "ztest_results = stests.ztest(data['check_total'], value=23)\n",
    "significant = True # Set this to True or False"
   ]
  },
  {
   "cell_type": "code",
   "execution_count": 15,
   "metadata": {},
   "outputs": [
    {
     "data": {
      "text/plain": [
       "'\\nA check total with a value of 23 is significantly different than the mean in our sample.  \\n\\nWe can tell this because the observed z-score of -15.78 is more extreme than the critical z-score of -1.64.\\n\\nOR\\n\\nWe can tell this because the p value is well below the alpha value of 0.05.\\n\\n'"
      ]
     },
     "execution_count": 15,
     "metadata": {},
     "output_type": "execute_result"
    }
   ],
   "source": [
    "# __SOLUTION__\n",
    "\n",
    "\"\"\"\n",
    "A check total with a value of 23 is significantly different than the mean in our sample.  \n",
    "\n",
    "We can tell this because the observed z-score of -15.78 is more extreme than the critical z-score of -1.64.\n",
    "\n",
    "OR\n",
    "\n",
    "We can tell this because the p value is well below the alpha value of 0.05.\n",
    "\n",
    "\"\"\""
   ]
  },
  {
   "cell_type": "markdown",
   "metadata": {},
   "source": [
    "4. Say we don't know how our population of checks is distributed. How does **sampling** and the **Central Limit Theorem** allow us to **make inferences on the population mean**, i.e. estimate $\\mu, \\sigma$ of the population mean?"
   ]
  },
  {
   "cell_type": "code",
   "execution_count": 16,
   "metadata": {},
   "outputs": [
    {
     "data": {
      "text/plain": [
       "'\\nSolution: The Central Limit Theorem says that we can take repeated samples of the population, \\nand estimate population parameters by finding the average mean and standard deviation of the samples. \\nSample means will also tend to a normal distribution.\\n'"
      ]
     },
     "execution_count": 16,
     "metadata": {},
     "output_type": "execute_result"
    }
   ],
   "source": [
    "# __SOLUTION__\n",
    "\"\"\"\n",
    "Solution: The Central Limit Theorem says that we can take repeated samples of the population, \n",
    "and estimate population parameters by finding the average mean and standard deviation of the samples. \n",
    "Sample means will also tend to a normal distribution.\n",
    "\"\"\""
   ]
  },
  {
   "cell_type": "markdown",
   "metadata": {},
   "source": [
    "## Part 3: Statistical Testing"
   ]
  },
  {
   "cell_type": "markdown",
   "metadata": {},
   "source": [
    "### Hypotheses and Errors\n",
    "\n",
    "This TexMex restaurant recently added queso to its menu.<br>The restaurant owners hope that customers ordering queso will end up spending a significantly different amount than non-queso-orders.<br> Let the average amount on queso customers' checks be $X_{Q}$.\n",
    "\n",
    "1. Set up the null and alternative hypotheses for this test."
   ]
  },
  {
   "cell_type": "markdown",
   "metadata": {},
   "source": [
    "$H_{0}:$ `hypothesis here`\n",
    "\n",
    "$H_{A}:$ `hypothesis here`"
   ]
  },
  {
   "cell_type": "markdown",
   "metadata": {},
   "source": [
    "2. In this context, what does it mean to make `Type I` and `Type II` errors?"
   ]
  },
  {
   "cell_type": "code",
   "execution_count": 17,
   "metadata": {},
   "outputs": [
    {
     "data": {
      "text/plain": [
       "'\\nType I: saying queso customers are different when they are the same\\n\\nType II: saying queso customers are the same when they are different\\n'"
      ]
     },
     "execution_count": 17,
     "metadata": {},
     "output_type": "execute_result"
    }
   ],
   "source": [
    "# __SOLUTION__\n",
    "\"\"\"\n",
    "Type I: saying queso customers are different when they are the same\n",
    "\n",
    "Type II: saying queso customers are the same when they are different\n",
    "\"\"\""
   ]
  },
  {
   "cell_type": "markdown",
   "metadata": {},
   "source": [
    "With $\\alpha = 0.05$, we want to determine if checks which included queso are significantly more **or** less than those that did not include queso. Below are histograms of the distribution of check totals split by orders that included queso and those that did not.  You may assume they have equal variances."
   ]
  },
  {
   "cell_type": "code",
   "execution_count": 18,
   "metadata": {},
   "outputs": [
    {
     "data": {
      "image/png": "[encoded data removed]",
      "text/plain": [
       "<Figure size 864x288 with 2 Axes>"
      ]
     },
     "metadata": {
      "needs_background": "light"
     },
     "output_type": "display_data"
    }
   ],
   "source": [
    "fig, (ax1, ax2) = plt.subplots(1, 2, figsize=(12, 4))\n",
    "\n",
    "np.random.seed(43)\n",
    "no_queso = np.random.choice(data.check_total, 1000)\n",
    "ax1.set_title('Sample of Non-Queso Check Totals')\n",
    "ax1.set_xlabel('Amount')\n",
    "ax1.set_ylabel('Frequency')\n",
    "ax1.hist(no_queso, bins=20)\n",
    "\n",
    "queso = pickle.load(open(\"data/queso.pkl\", \"rb\"))\n",
    "ax2.set_title('Sample of Queso Check Totals')\n",
    "ax2.set_xlabel('Amount')\n",
    "ax2.set_ylabel('Frequency')\n",
    "ax2.hist(queso, bins=20)\n",
    "plt.show()"
   ]
  },
  {
   "cell_type": "markdown",
   "metadata": {},
   "source": [
    "3. Run a statistical test on the two samples to determine if you should reject or fail to reject the null hypothesis above. "
   ]
  },
  {
   "cell_type": "code",
   "execution_count": 19,
   "metadata": {},
   "outputs": [],
   "source": [
    "# __SOLUTION__ \n",
    "queso_results = stats.ttest_ind(no_queso, queso)"
   ]
  },
  {
   "cell_type": "markdown",
   "metadata": {},
   "source": [
    "4.  According to the results of the statistical test above\n",
    "- Set the `reject` variable to your decision \n",
    "- Then elaborate on why you made this decision regarding your null hypothesis."
   ]
  },
  {
   "cell_type": "code",
   "execution_count": 20,
   "metadata": {},
   "outputs": [
    {
     "data": {
      "text/plain": [
       "'\\nWe reject the null hypothesis because the p-value is less than 0.05\\n'"
      ]
     },
     "execution_count": 20,
     "metadata": {},
     "output_type": "execute_result"
    }
   ],
   "source": [
    "# __SOLUTION__\n",
    "# Set this to True or False\n",
    "reject = True \n",
    "\"\"\"\n",
    "We reject the null hypothesis because the p-value is less than 0.05\n",
    "\"\"\""
   ]
  },
  {
   "cell_type": "markdown",
   "metadata": {},
   "source": [
    "5. What are the conditions required to perform the test you chose?"
   ]
  },
  {
   "cell_type": "code",
   "execution_count": 21,
   "metadata": {},
   "outputs": [
    {
     "data": {
      "text/plain": [
       "'\\nConditions for a two tailed t-test:\\n\\ndata is continuous\\ndata follow a normal distribution\\nvariance of the two populations are equal\\ntwo samples are independent\\nboth samples are random samples\\n'"
      ]
     },
     "execution_count": 21,
     "metadata": {},
     "output_type": "execute_result"
    }
   ],
   "source": [
    "# __SOLUTION__\n",
    "\"\"\"\n",
    "Conditions for a two tailed t-test:\n",
    "\n",
    "data is continuous\n",
    "data follow a normal distribution\n",
    "variance of the two populations are equal\n",
    "two samples are independent\n",
    "both samples are random samples\n",
    "\"\"\""
   ]
  },
  {
   "cell_type": "markdown",
   "metadata": {},
   "source": [
    "## Part 4: Bayesian Statistics\n",
    "### a. Bayes' Theorem"
   ]
  },
  {
   "cell_type": "markdown",
   "metadata": {},
   "source": [
    "#### Scenario\n",
    "Thomas wants to get a new puppy 🐕 🐶 🐩 \n",
    "\n",
    "\n",
    "<img src=\"https://media.giphy.com/media/rD8R00QOKwfxC/giphy.gif\" />\n",
    "\n",
    "He can choose to get his new puppy either from the **pet store** or the **pound**.<br> \n",
    "The probability of him going to the _pet store_ is $0.2$. \n",
    "\n",
    "He can choose to get either a **big**, **medium** or **small** puppy.\n",
    "\n",
    "If he goes to the _pet store_:\n",
    "- the probability of him getting a small puppy is $0.6$ \n",
    "- the probability of him getting a medium puppy is $0.3$\n",
    "- the probability of him getting a large puppy is $0.1$\n",
    "\n",
    "If he goes to the _pound_: \n",
    "- the probability of him getting a small puppy is $0.1$\n",
    "- the probability of him getting a medium puppy is $0.35$\n",
    "- the probability of him getting a large puppy is $0.55$\n",
    "\n",
    "\n",
    "#### Questions\n",
    "1. What is the probability of Thomas getting a small puppy? (`ans1`)\n",
    "2. Given that he got a large puppy, what is the probability that Thomas went to the pet store? (`ans2`)\n",
    "3. Given that Thomas got a small puppy, is it more likely that he went to the pet store or to the pound? (`ans3`)\n",
    "4. In question 2, what is the prior(`ans4_prior`), posterior(`ans4_posterior`) and likelihood(`ans4_likelihood`)?"
   ]
  },
  {
   "cell_type": "code",
   "execution_count": 22,
   "metadata": {},
   "outputs": [],
   "source": [
    "# __SOLUTION__ \n",
    "# Qustion 1: \n",
    "# P(Small) = P(Small|Pet Store) + P(Small|Pound) \n",
    "#          = 0.2*0.6 + 0.8*0.1 \n",
    "#          = 0.2\n",
    "ans6 = 0.2\n",
    "\n",
    "# Question 2:\n",
    "# P(Pet Store|Large)  = P(Large|Pet Store)*P(Pet Store) / P(Large) \n",
    "#                     = 0.1*0.2 / (0.1*0.2 + 0.55*0.8)\n",
    "#                     = 0.02 / 0.46 = 0.04348\n",
    "ans7 = 0.02/0.46\n",
    "\n",
    "# Question 3:\n",
    "# P(Pet Store|Small) = 0.6\n",
    "# P(Pound|Small) = 0.4\n",
    "# More likely he went to the pet store.\n",
    "ans8 = \"pet store\" # pet store! (0.12 vs 0.08)\n",
    "\n",
    "\n",
    "# Question 4:\n",
    "# P(Pet Store|Large) = P(Large|Pet Store)*P(Pet Store) / P(Large)\n",
    "ans9_prior = \"P(Store)\"\n",
    "ans9_posterior = \"P(Store | Large)\"\n",
    "ans9_likelihood = \"P(Large | Store)\""
   ]
  },
  {
   "cell_type": "code",
   "execution_count": null,
   "metadata": {},
   "outputs": [],
   "source": []
  }
 ],
 "metadata": {
  "kernelspec": {
   "display_name": "Python 3",
   "language": "python",
   "name": "python3"
  },
  "language_info": {
   "codemirror_mode": {
    "name": "ipython",
    "version": 3
   },
   "file_extension": ".py",
   "mimetype": "text/x-python",
   "name": "python",
   "nbconvert_exporter": "python",
   "pygments_lexer": "ipython3",
   "version": "3.7.3"
  }
 },
 "nbformat": 4,
 "nbformat_minor": 4
}
